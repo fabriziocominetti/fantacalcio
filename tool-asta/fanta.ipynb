{
 "cells": [
  {
   "cell_type": "markdown",
   "metadata": {},
   "source": [
    "# Tool Asta Fantacalcio"
   ]
  },
  {
   "cell_type": "markdown",
   "metadata": {},
   "source": [
    "Per prima cosa occorre scaricare i due dataset che verranno utilizzati:\n",
    "- quotazioni\n",
    "- votazioni"
   ]
  },
  {
   "cell_type": "code",
   "execution_count": 1,
   "metadata": {},
   "outputs": [
    {
     "data": {
      "text/plain": [
       "'\\nquotazioni:\\nhttps://www.fantacalcio.it/quotazioni-fantacalcio\\n\\nvotazioni:\\nhttps://www.fantacalcio.it/statistiche-serie-a/2021-22/fantacalcio/medie\\n'"
      ]
     },
     "execution_count": 1,
     "metadata": {},
     "output_type": "execute_result"
    }
   ],
   "source": [
    "'''\n",
    "quotazioni:\n",
    "https://www.fantacalcio.it/quotazioni-fantacalcio\n",
    "\n",
    "votazioni:\n",
    "https://www.fantacalcio.it/statistiche-serie-a/2021-22/fantacalcio/medie\n",
    "'''"
   ]
  },
  {
   "cell_type": "code",
   "execution_count": 2,
   "metadata": {},
   "outputs": [],
   "source": [
    "import pandas as pd\n",
    "import os"
   ]
  },
  {
   "cell_type": "code",
   "execution_count": 3,
   "metadata": {},
   "outputs": [
    {
     "data": {
      "text/html": [
       "<div>\n",
       "<style scoped>\n",
       "    .dataframe tbody tr th:only-of-type {\n",
       "        vertical-align: middle;\n",
       "    }\n",
       "\n",
       "    .dataframe tbody tr th {\n",
       "        vertical-align: top;\n",
       "    }\n",
       "\n",
       "    .dataframe thead th {\n",
       "        text-align: right;\n",
       "    }\n",
       "</style>\n",
       "<table border=\"1\" class=\"dataframe\">\n",
       "  <thead>\n",
       "    <tr style=\"text-align: right;\">\n",
       "      <th></th>\n",
       "      <th>Id</th>\n",
       "      <th>R</th>\n",
       "      <th>Nome</th>\n",
       "      <th>Squadra</th>\n",
       "      <th>Qt. A</th>\n",
       "      <th>Qt. I</th>\n",
       "      <th>Diff.</th>\n",
       "    </tr>\n",
       "  </thead>\n",
       "  <tbody>\n",
       "    <tr>\n",
       "      <th>0</th>\n",
       "      <td>785</td>\n",
       "      <td>A</td>\n",
       "      <td>IMMOBILE</td>\n",
       "      <td>Lazio</td>\n",
       "      <td>44</td>\n",
       "      <td>38</td>\n",
       "      <td>6</td>\n",
       "    </tr>\n",
       "    <tr>\n",
       "      <th>1</th>\n",
       "      <td>2841</td>\n",
       "      <td>A</td>\n",
       "      <td>VLAHOVIC</td>\n",
       "      <td>Juventus</td>\n",
       "      <td>41</td>\n",
       "      <td>34</td>\n",
       "      <td>7</td>\n",
       "    </tr>\n",
       "    <tr>\n",
       "      <th>2</th>\n",
       "      <td>531</td>\n",
       "      <td>A</td>\n",
       "      <td>BERARDI</td>\n",
       "      <td>Sassuolo</td>\n",
       "      <td>40</td>\n",
       "      <td>31</td>\n",
       "      <td>9</td>\n",
       "    </tr>\n",
       "    <tr>\n",
       "      <th>3</th>\n",
       "      <td>608</td>\n",
       "      <td>A</td>\n",
       "      <td>ZAPATA D.</td>\n",
       "      <td>Atalanta</td>\n",
       "      <td>34</td>\n",
       "      <td>33</td>\n",
       "      <td>1</td>\n",
       "    </tr>\n",
       "    <tr>\n",
       "      <th>4</th>\n",
       "      <td>1958</td>\n",
       "      <td>A</td>\n",
       "      <td>CAPRARI</td>\n",
       "      <td>Verona</td>\n",
       "      <td>34</td>\n",
       "      <td>10</td>\n",
       "      <td>24</td>\n",
       "    </tr>\n",
       "  </tbody>\n",
       "</table>\n",
       "</div>"
      ],
      "text/plain": [
       "     Id  R       Nome   Squadra  Qt. A  Qt. I  Diff.\n",
       "0   785  A   IMMOBILE     Lazio     44     38      6\n",
       "1  2841  A   VLAHOVIC  Juventus     41     34      7\n",
       "2   531  A    BERARDI  Sassuolo     40     31      9\n",
       "3   608  A  ZAPATA D.  Atalanta     34     33      1\n",
       "4  1958  A    CAPRARI    Verona     34     10     24"
      ]
     },
     "execution_count": 3,
     "metadata": {},
     "output_type": "execute_result"
    }
   ],
   "source": [
    "quotazioni_df = pd.read_excel(\"data/input/Quotazioni_Fantacalcio.xlsx\", header = 1, engine='openpyxl')\n",
    "quotazioni_df.head()"
   ]
  },
  {
   "cell_type": "code",
   "execution_count": 4,
   "metadata": {},
   "outputs": [
    {
     "data": {
      "text/plain": [
       "Index(['Id', 'R', 'Nome', 'Squadra', 'Qt. A', 'Qt. I', 'Diff.'], dtype='object')"
      ]
     },
     "execution_count": 4,
     "metadata": {},
     "output_type": "execute_result"
    }
   ],
   "source": [
    "quotazioni_df.columns"
   ]
  },
  {
   "cell_type": "code",
   "execution_count": 5,
   "metadata": {},
   "outputs": [],
   "source": [
    "def prune(dataset):\n",
    "    temp = pd.DataFrame()\n",
    "    temp['Nome'] = dataset['Nome']\n",
    "    temp['Pg'] = dataset['Pg']\n",
    "    temp['Mf'] = dataset['Mf']\n",
    "    return temp"
   ]
  },
  {
   "cell_type": "markdown",
   "metadata": {},
   "source": [
    "Rimuovo colonne non utilizzate"
   ]
  },
  {
   "cell_type": "code",
   "execution_count": 6,
   "metadata": {},
   "outputs": [],
   "source": [
    "quotazioni_df = quotazioni_df.drop(['Id', 'Diff.'], axis=1)"
   ]
  },
  {
   "cell_type": "code",
   "execution_count": 7,
   "metadata": {},
   "outputs": [],
   "source": [
    "stat_df1 = pd.read_excel(\"data/input/Statistiche_Fantacalcio_2021-22.xlsx\", header = 1, engine='openpyxl')\n",
    "stat_df2 = pd.read_excel(\"data/input/Statistiche_Fantacalcio_2020-21.xlsx\", header = 1, engine='openpyxl')\n",
    "stat_df3 = pd.read_excel(\"data/input/Statistiche_Fantacalcio_2019-20.xlsx\", header = 1, engine='openpyxl')"
   ]
  },
  {
   "cell_type": "code",
   "execution_count": 8,
   "metadata": {},
   "outputs": [
    {
     "data": {
      "text/html": [
       "<div>\n",
       "<style scoped>\n",
       "    .dataframe tbody tr th:only-of-type {\n",
       "        vertical-align: middle;\n",
       "    }\n",
       "\n",
       "    .dataframe tbody tr th {\n",
       "        vertical-align: top;\n",
       "    }\n",
       "\n",
       "    .dataframe thead th {\n",
       "        text-align: right;\n",
       "    }\n",
       "</style>\n",
       "<table border=\"1\" class=\"dataframe\">\n",
       "  <thead>\n",
       "    <tr style=\"text-align: right;\">\n",
       "      <th></th>\n",
       "      <th>Id</th>\n",
       "      <th>R</th>\n",
       "      <th>Nome</th>\n",
       "      <th>Squadra</th>\n",
       "      <th>Pg</th>\n",
       "      <th>Mv</th>\n",
       "      <th>Mf</th>\n",
       "      <th>Gf</th>\n",
       "      <th>Gs</th>\n",
       "      <th>Rp</th>\n",
       "      <th>Rc</th>\n",
       "      <th>R+</th>\n",
       "      <th>R-</th>\n",
       "      <th>Ass</th>\n",
       "      <th>Amm</th>\n",
       "      <th>Esp</th>\n",
       "      <th>Au</th>\n",
       "    </tr>\n",
       "  </thead>\n",
       "  <tbody>\n",
       "    <tr>\n",
       "      <th>0</th>\n",
       "      <td>3</td>\n",
       "      <td>P</td>\n",
       "      <td>RADUNOVIC</td>\n",
       "      <td>Cagliari</td>\n",
       "      <td>3</td>\n",
       "      <td>6.33</td>\n",
       "      <td>5.67</td>\n",
       "      <td>0</td>\n",
       "      <td>5</td>\n",
       "      <td>1</td>\n",
       "      <td>0</td>\n",
       "      <td>0</td>\n",
       "      <td>0</td>\n",
       "      <td>0</td>\n",
       "      <td>0</td>\n",
       "      <td>0</td>\n",
       "      <td>0</td>\n",
       "    </tr>\n",
       "    <tr>\n",
       "      <th>1</th>\n",
       "      <td>4</td>\n",
       "      <td>P</td>\n",
       "      <td>SPORTIELLO</td>\n",
       "      <td>Atalanta</td>\n",
       "      <td>4</td>\n",
       "      <td>6.25</td>\n",
       "      <td>5.50</td>\n",
       "      <td>0</td>\n",
       "      <td>3</td>\n",
       "      <td>0</td>\n",
       "      <td>0</td>\n",
       "      <td>0</td>\n",
       "      <td>0</td>\n",
       "      <td>0</td>\n",
       "      <td>0</td>\n",
       "      <td>0</td>\n",
       "      <td>0</td>\n",
       "    </tr>\n",
       "  </tbody>\n",
       "</table>\n",
       "</div>"
      ],
      "text/plain": [
       "   Id  R        Nome   Squadra  Pg    Mv    Mf  Gf  Gs  Rp  Rc  R+  R-  Ass  \\\n",
       "0   3  P   RADUNOVIC  Cagliari   3  6.33  5.67   0   5   1   0   0   0    0   \n",
       "1   4  P  SPORTIELLO  Atalanta   4  6.25  5.50   0   3   0   0   0   0    0   \n",
       "\n",
       "   Amm  Esp  Au  \n",
       "0    0    0   0  \n",
       "1    0    0   0  "
      ]
     },
     "execution_count": 8,
     "metadata": {},
     "output_type": "execute_result"
    }
   ],
   "source": [
    "stat_df1.head(2)"
   ]
  },
  {
   "cell_type": "code",
   "execution_count": 9,
   "metadata": {},
   "outputs": [
    {
     "data": {
      "text/html": [
       "<div>\n",
       "<style scoped>\n",
       "    .dataframe tbody tr th:only-of-type {\n",
       "        vertical-align: middle;\n",
       "    }\n",
       "\n",
       "    .dataframe tbody tr th {\n",
       "        vertical-align: top;\n",
       "    }\n",
       "\n",
       "    .dataframe thead th {\n",
       "        text-align: right;\n",
       "    }\n",
       "</style>\n",
       "<table border=\"1\" class=\"dataframe\">\n",
       "  <thead>\n",
       "    <tr style=\"text-align: right;\">\n",
       "      <th></th>\n",
       "      <th>Id</th>\n",
       "      <th>R</th>\n",
       "      <th>Nome</th>\n",
       "      <th>Squadra</th>\n",
       "      <th>Pg</th>\n",
       "      <th>Mv</th>\n",
       "      <th>Mf</th>\n",
       "      <th>Gf</th>\n",
       "      <th>Gs</th>\n",
       "      <th>Rp</th>\n",
       "      <th>Rc</th>\n",
       "      <th>R+</th>\n",
       "      <th>R-</th>\n",
       "      <th>Ass</th>\n",
       "      <th>Amm</th>\n",
       "      <th>Esp</th>\n",
       "      <th>Au</th>\n",
       "    </tr>\n",
       "  </thead>\n",
       "  <tbody>\n",
       "    <tr>\n",
       "      <th>0</th>\n",
       "      <td>3</td>\n",
       "      <td>P</td>\n",
       "      <td>RADUNOVIC</td>\n",
       "      <td>Atalanta</td>\n",
       "      <td>0</td>\n",
       "      <td>0.00</td>\n",
       "      <td>0.00</td>\n",
       "      <td>0</td>\n",
       "      <td>0</td>\n",
       "      <td>0</td>\n",
       "      <td>0</td>\n",
       "      <td>0</td>\n",
       "      <td>0</td>\n",
       "      <td>0</td>\n",
       "      <td>0</td>\n",
       "      <td>0</td>\n",
       "      <td>0</td>\n",
       "    </tr>\n",
       "    <tr>\n",
       "      <th>1</th>\n",
       "      <td>4</td>\n",
       "      <td>P</td>\n",
       "      <td>SPORTIELLO</td>\n",
       "      <td>Atalanta</td>\n",
       "      <td>15</td>\n",
       "      <td>6.23</td>\n",
       "      <td>5.03</td>\n",
       "      <td>0</td>\n",
       "      <td>21</td>\n",
       "      <td>1</td>\n",
       "      <td>0</td>\n",
       "      <td>0</td>\n",
       "      <td>0</td>\n",
       "      <td>0</td>\n",
       "      <td>0</td>\n",
       "      <td>0</td>\n",
       "      <td>0</td>\n",
       "    </tr>\n",
       "  </tbody>\n",
       "</table>\n",
       "</div>"
      ],
      "text/plain": [
       "   Id  R        Nome   Squadra  Pg    Mv    Mf  Gf  Gs  Rp  Rc  R+  R-  Ass  \\\n",
       "0   3  P   RADUNOVIC  Atalanta   0  0.00  0.00   0   0   0   0   0   0    0   \n",
       "1   4  P  SPORTIELLO  Atalanta  15  6.23  5.03   0  21   1   0   0   0    0   \n",
       "\n",
       "   Amm  Esp  Au  \n",
       "0    0    0   0  \n",
       "1    0    0   0  "
      ]
     },
     "execution_count": 9,
     "metadata": {},
     "output_type": "execute_result"
    }
   ],
   "source": [
    "stat_df2.head(2)"
   ]
  },
  {
   "cell_type": "code",
   "execution_count": 10,
   "metadata": {},
   "outputs": [
    {
     "data": {
      "text/html": [
       "<div>\n",
       "<style scoped>\n",
       "    .dataframe tbody tr th:only-of-type {\n",
       "        vertical-align: middle;\n",
       "    }\n",
       "\n",
       "    .dataframe tbody tr th {\n",
       "        vertical-align: top;\n",
       "    }\n",
       "\n",
       "    .dataframe thead th {\n",
       "        text-align: right;\n",
       "    }\n",
       "</style>\n",
       "<table border=\"1\" class=\"dataframe\">\n",
       "  <thead>\n",
       "    <tr style=\"text-align: right;\">\n",
       "      <th></th>\n",
       "      <th>Id</th>\n",
       "      <th>R</th>\n",
       "      <th>Nome</th>\n",
       "      <th>Squadra</th>\n",
       "      <th>Pg</th>\n",
       "      <th>Mv</th>\n",
       "      <th>Mf</th>\n",
       "      <th>Gf</th>\n",
       "      <th>Gs</th>\n",
       "      <th>Rp</th>\n",
       "      <th>Rc</th>\n",
       "      <th>R+</th>\n",
       "      <th>R-</th>\n",
       "      <th>Ass</th>\n",
       "      <th>Amm</th>\n",
       "      <th>Esp</th>\n",
       "      <th>Au</th>\n",
       "    </tr>\n",
       "  </thead>\n",
       "  <tbody>\n",
       "    <tr>\n",
       "      <th>0</th>\n",
       "      <td>3</td>\n",
       "      <td>P</td>\n",
       "      <td>RADUNOVIC</td>\n",
       "      <td>Verona</td>\n",
       "      <td>3</td>\n",
       "      <td>5.83</td>\n",
       "      <td>3.00</td>\n",
       "      <td>0</td>\n",
       "      <td>8</td>\n",
       "      <td>0</td>\n",
       "      <td>0</td>\n",
       "      <td>0</td>\n",
       "      <td>0</td>\n",
       "      <td>0</td>\n",
       "      <td>1</td>\n",
       "      <td>0</td>\n",
       "      <td>0</td>\n",
       "    </tr>\n",
       "    <tr>\n",
       "      <th>1</th>\n",
       "      <td>4</td>\n",
       "      <td>P</td>\n",
       "      <td>SPORTIELLO</td>\n",
       "      <td>Atalanta</td>\n",
       "      <td>6</td>\n",
       "      <td>6.17</td>\n",
       "      <td>5.33</td>\n",
       "      <td>0</td>\n",
       "      <td>5</td>\n",
       "      <td>0</td>\n",
       "      <td>0</td>\n",
       "      <td>0</td>\n",
       "      <td>0</td>\n",
       "      <td>0</td>\n",
       "      <td>0</td>\n",
       "      <td>0</td>\n",
       "      <td>0</td>\n",
       "    </tr>\n",
       "  </tbody>\n",
       "</table>\n",
       "</div>"
      ],
      "text/plain": [
       "   Id  R        Nome   Squadra  Pg    Mv    Mf  Gf  Gs  Rp  Rc  R+  R-  Ass  \\\n",
       "0   3  P   RADUNOVIC    Verona   3  5.83  3.00   0   8   0   0   0   0    0   \n",
       "1   4  P  SPORTIELLO  Atalanta   6  6.17  5.33   0   5   0   0   0   0    0   \n",
       "\n",
       "   Amm  Esp  Au  \n",
       "0    1    0   0  \n",
       "1    0    0   0  "
      ]
     },
     "execution_count": 10,
     "metadata": {},
     "output_type": "execute_result"
    }
   ],
   "source": [
    "stat_df3.head(2)"
   ]
  },
  {
   "cell_type": "code",
   "execution_count": 11,
   "metadata": {},
   "outputs": [],
   "source": [
    "calciatori_oggi = list(stat_df1['Nome'] + '/' + stat_df1['Squadra'])\n",
    "calciatori_old = list(stat_df2['Nome'] + '/' + stat_df2['Squadra'])"
   ]
  },
  {
   "cell_type": "code",
   "execution_count": 12,
   "metadata": {},
   "outputs": [],
   "source": [
    "calciatori_old_dict = dict(zip(stat_df2['Nome'].to_list(), stat_df2['Squadra'].to_list()))"
   ]
  },
  {
   "cell_type": "code",
   "execution_count": 13,
   "metadata": {},
   "outputs": [],
   "source": [
    "giveatry = [i.split('/')[0] for i in calciatori_oggi if i not in calciatori_old]"
   ]
  },
  {
   "cell_type": "code",
   "execution_count": 14,
   "metadata": {},
   "outputs": [
    {
     "data": {
      "text/plain": [
       "['Id',\n",
       " 'R',\n",
       " 'Nome',\n",
       " 'Squadra',\n",
       " 'Pg',\n",
       " 'Mv',\n",
       " 'Mf',\n",
       " 'Gf',\n",
       " 'Gs',\n",
       " 'Rp',\n",
       " 'Rc',\n",
       " 'R+',\n",
       " 'R-',\n",
       " 'Ass',\n",
       " 'Amm',\n",
       " 'Esp',\n",
       " 'Au']"
      ]
     },
     "execution_count": 14,
     "metadata": {},
     "output_type": "execute_result"
    }
   ],
   "source": [
    "list(stat_df1.columns.values)"
   ]
  },
  {
   "cell_type": "code",
   "execution_count": 15,
   "metadata": {},
   "outputs": [],
   "source": [
    "stat_df1 = prune(stat_df1)\n",
    "stat_df2 = prune(stat_df2)\n",
    "stat_df3 = prune(stat_df3)"
   ]
  },
  {
   "cell_type": "code",
   "execution_count": 16,
   "metadata": {},
   "outputs": [],
   "source": [
    "df_q = pd.DataFrame(quotazioni_df)\n",
    "df_s1 = pd.DataFrame(stat_df1)\n",
    "df_s2 = pd.DataFrame(stat_df2)\n",
    "df_s3 = pd.DataFrame(stat_df3)"
   ]
  },
  {
   "cell_type": "code",
   "execution_count": 17,
   "metadata": {},
   "outputs": [
    {
     "name": "stdout",
     "output_type": "stream",
     "text": [
      "Index(['R', 'Nome', 'Squadra', 'Qt. A', 'Qt. I'], dtype='object')\n",
      "Index(['Nome', 'Pg', 'Mf'], dtype='object')\n",
      "Index(['Nome', 'Pg', 'Mf'], dtype='object')\n",
      "Index(['Nome', 'Pg', 'Mf'], dtype='object')\n"
     ]
    }
   ],
   "source": [
    "print(df_q.columns)\n",
    "print(df_s1.columns)\n",
    "print(df_s2.columns)\n",
    "print(df_s3.columns)"
   ]
  },
  {
   "cell_type": "code",
   "execution_count": 18,
   "metadata": {},
   "outputs": [],
   "source": [
    "df = df_q.merge(df_s1, on='Nome').merge(df_s2, on='Nome').merge(df_s3, on='Nome')"
   ]
  },
  {
   "cell_type": "code",
   "execution_count": 19,
   "metadata": {},
   "outputs": [
    {
     "data": {
      "text/html": [
       "<div>\n",
       "<style scoped>\n",
       "    .dataframe tbody tr th:only-of-type {\n",
       "        vertical-align: middle;\n",
       "    }\n",
       "\n",
       "    .dataframe tbody tr th {\n",
       "        vertical-align: top;\n",
       "    }\n",
       "\n",
       "    .dataframe thead th {\n",
       "        text-align: right;\n",
       "    }\n",
       "</style>\n",
       "<table border=\"1\" class=\"dataframe\">\n",
       "  <thead>\n",
       "    <tr style=\"text-align: right;\">\n",
       "      <th></th>\n",
       "      <th>R</th>\n",
       "      <th>Nome</th>\n",
       "      <th>Squadra</th>\n",
       "      <th>Qt. A</th>\n",
       "      <th>Qt. I</th>\n",
       "      <th>Pg_x</th>\n",
       "      <th>Mf_x</th>\n",
       "      <th>Pg_y</th>\n",
       "      <th>Mf_y</th>\n",
       "      <th>Pg</th>\n",
       "      <th>Mf</th>\n",
       "    </tr>\n",
       "  </thead>\n",
       "  <tbody>\n",
       "    <tr>\n",
       "      <th>0</th>\n",
       "      <td>A</td>\n",
       "      <td>IMMOBILE</td>\n",
       "      <td>Lazio</td>\n",
       "      <td>44</td>\n",
       "      <td>38</td>\n",
       "      <td>23</td>\n",
       "      <td>8.98</td>\n",
       "      <td>35</td>\n",
       "      <td>7.70</td>\n",
       "      <td>37</td>\n",
       "      <td>9.49</td>\n",
       "    </tr>\n",
       "    <tr>\n",
       "      <th>1</th>\n",
       "      <td>A</td>\n",
       "      <td>VLAHOVIC</td>\n",
       "      <td>Juventus</td>\n",
       "      <td>41</td>\n",
       "      <td>34</td>\n",
       "      <td>27</td>\n",
       "      <td>8.56</td>\n",
       "      <td>37</td>\n",
       "      <td>8.01</td>\n",
       "      <td>27</td>\n",
       "      <td>6.46</td>\n",
       "    </tr>\n",
       "    <tr>\n",
       "      <th>2</th>\n",
       "      <td>A</td>\n",
       "      <td>BERARDI</td>\n",
       "      <td>Sassuolo</td>\n",
       "      <td>40</td>\n",
       "      <td>31</td>\n",
       "      <td>26</td>\n",
       "      <td>8.38</td>\n",
       "      <td>30</td>\n",
       "      <td>8.37</td>\n",
       "      <td>31</td>\n",
       "      <td>7.85</td>\n",
       "    </tr>\n",
       "    <tr>\n",
       "      <th>3</th>\n",
       "      <td>A</td>\n",
       "      <td>ZAPATA D.</td>\n",
       "      <td>Atalanta</td>\n",
       "      <td>34</td>\n",
       "      <td>33</td>\n",
       "      <td>17</td>\n",
       "      <td>8.38</td>\n",
       "      <td>37</td>\n",
       "      <td>7.88</td>\n",
       "      <td>28</td>\n",
       "      <td>8.66</td>\n",
       "    </tr>\n",
       "    <tr>\n",
       "      <th>4</th>\n",
       "      <td>A</td>\n",
       "      <td>CAPRARI</td>\n",
       "      <td>Verona</td>\n",
       "      <td>34</td>\n",
       "      <td>10</td>\n",
       "      <td>25</td>\n",
       "      <td>8.08</td>\n",
       "      <td>30</td>\n",
       "      <td>6.52</td>\n",
       "      <td>26</td>\n",
       "      <td>6.42</td>\n",
       "    </tr>\n",
       "  </tbody>\n",
       "</table>\n",
       "</div>"
      ],
      "text/plain": [
       "   R       Nome   Squadra  Qt. A  Qt. I  Pg_x  Mf_x  Pg_y  Mf_y  Pg    Mf\n",
       "0  A   IMMOBILE     Lazio     44     38    23  8.98    35  7.70  37  9.49\n",
       "1  A   VLAHOVIC  Juventus     41     34    27  8.56    37  8.01  27  6.46\n",
       "2  A    BERARDI  Sassuolo     40     31    26  8.38    30  8.37  31  7.85\n",
       "3  A  ZAPATA D.  Atalanta     34     33    17  8.38    37  7.88  28  8.66\n",
       "4  A    CAPRARI    Verona     34     10    25  8.08    30  6.52  26  6.42"
      ]
     },
     "execution_count": 19,
     "metadata": {},
     "output_type": "execute_result"
    }
   ],
   "source": [
    "df.head()"
   ]
  },
  {
   "cell_type": "code",
   "execution_count": 20,
   "metadata": {},
   "outputs": [],
   "source": [
    "media_giocatori = [];\n",
    "for index, row in df.iterrows():\n",
    "    if row.Pg_x > 0 or row.Pg_y > 0:\n",
    "        media_w_pg = (row.Pg_x/38 * row.Mf_x)*0.20 + (row.Pg_y/38 * row.Mf_y)*0.80\n",
    "        media_giocatori.append(media_w_pg)\n",
    "    else:\n",
    "        media_giocatori.append(0)\n",
    "\n",
    "df['mediaGiocatori'] = media_giocatori"
   ]
  },
  {
   "cell_type": "code",
   "execution_count": 21,
   "metadata": {},
   "outputs": [],
   "source": [
    "media = []\n",
    "for index, row in df.iterrows():\n",
    "    if row.mediaGiocatori > 0:\n",
    "        media.append(row.mediaGiocatori / row[\"Qt. I\"])\n",
    "    else:\n",
    "        media.append(0)\n",
    "\n",
    "df['media'] = media"
   ]
  },
  {
   "cell_type": "code",
   "execution_count": 22,
   "metadata": {},
   "outputs": [
    {
     "name": "stdout",
     "output_type": "stream",
     "text": [
      "In questa stagione sono state disputate 38 partite\n"
     ]
    }
   ],
   "source": [
    "giocateMax = 0\n",
    "for index, row in df.iterrows():\n",
    "    if row.Pg > giocateMax:\n",
    "        giocateMax = row.Pg\n",
    "\n",
    "print(\"In questa stagione sono state disputate\", giocateMax ,\"partite\")"
   ]
  },
  {
   "cell_type": "code",
   "execution_count": 23,
   "metadata": {},
   "outputs": [],
   "source": [
    "if giocateMax == 0:\n",
    "    giocateMax = 1 # se campionato non iniziato evito divisione per zero"
   ]
  },
  {
   "cell_type": "code",
   "execution_count": 24,
   "metadata": {},
   "outputs": [],
   "source": [
    "media_giocatori = [];\n",
    "for index, row in df.iterrows():\n",
    "    if row.Pg > 0:\n",
    "        media_w_pg = (row.Pg_x/38 * row.Mf)*0.20 + (row.Pg_y/38 * row.Mf)*0.40 + (row.Pg/giocateMax * row.Mf)*0.40\n",
    "        media_giocatori.append(media_w_pg)\n",
    "    else:\n",
    "        media_giocatori.append(0)\n",
    "\n",
    "df['mediaGiocatori_today'] = media_giocatori"
   ]
  },
  {
   "cell_type": "code",
   "execution_count": 25,
   "metadata": {},
   "outputs": [],
   "source": [
    "media = []\n",
    "for index, row in df.iterrows():\n",
    "    if row.mediaGiocatori_today > 0:\n",
    "        media.append(row.mediaGiocatori / row[\"Qt. I\"])\n",
    "    else:\n",
    "        media.append(0)\n",
    "\n",
    "df['media_today'] = media"
   ]
  },
  {
   "cell_type": "code",
   "execution_count": 26,
   "metadata": {},
   "outputs": [],
   "source": [
    "prob = []\n",
    "for index, row in df.iterrows():\n",
    "    if int(row.Pg_y) <= int(row.Pg_x):\n",
    "        if round(int(row.Pg_y)/38*100-int(row.Pg_x+1)/int(row.Pg_y+1)) < 0 :\n",
    "            prob.append(round(-1/2*(int(row.Pg_y)/38*100-(int(row.Pg_x+1)/int(row.Pg_y+1)))))\n",
    "        else:\n",
    "            prob.append(round(int(row.Pg_y)/38*100-(int(row.Pg_x+1)/int(row.Pg_y+1))))\n",
    "    else:\n",
    "        if round(int(row.Pg_y)/38*100+(int(row.Pg_y)/int(row.Pg_x+1))) > 100:\n",
    "            prob.append(99.5)\n",
    "        else:\n",
    "            prob.append(round(int(row.Pg_y)/38*100+(int(row.Pg_y)/int(row.Pg_x+1))))\n",
    "\n",
    "df['Probabile_titolarità_futura'] = prob # (occhio se il giocatore ha cambiato squadra)\n"
   ]
  },
  {
   "cell_type": "code",
   "execution_count": 27,
   "metadata": {},
   "outputs": [],
   "source": [
    "prob = []\n",
    "for index, row in df.iterrows():\n",
    "    if row.Nome in giveatry:\n",
    "        prob.append('Y - ex '+calciatori_old_dict[row.Nome])\n",
    "    else:\n",
    "        prob.append('N')\n",
    "\n",
    "df['Squadra_nuova'] = prob"
   ]
  },
  {
   "cell_type": "code",
   "execution_count": 28,
   "metadata": {},
   "outputs": [],
   "source": [
    "total = []\n",
    "for index, row in df.iterrows():\n",
    "    if row.mediaGiocatori > 0:\n",
    "        total.append(row.mediaGiocatori * row.media * row['Mf_y'])\n",
    "    else:\n",
    "        total.append(0)\n",
    "\n",
    "df['Convenienza_inizio_campionato'] = total # (considera solo le due annate precedenti concluse)"
   ]
  },
  {
   "cell_type": "code",
   "execution_count": 29,
   "metadata": {},
   "outputs": [],
   "source": [
    "total = []\n",
    "for index, row in df.iterrows():\n",
    "    if row.mediaGiocatori > 0:\n",
    "        total.append(row.mediaGiocatori_today * row.media_today * row['Mf'])\n",
    "    else:\n",
    "        total.append(0)\n",
    "\n",
    "df['Convenienza_today'] = total"
   ]
  },
  {
   "cell_type": "code",
   "execution_count": 30,
   "metadata": {},
   "outputs": [],
   "source": [
    "if giocateMax < 2:\n",
    "    result = df.sort_values(by='Convenienza_inizio_campionato', ascending=False)\n",
    "else:\n",
    "    result = df.sort_values(by='Convenienza_today', ascending=False)"
   ]
  },
  {
   "cell_type": "code",
   "execution_count": 31,
   "metadata": {},
   "outputs": [],
   "source": [
    "result = result.drop(['mediaGiocatori', 'media', 'mediaGiocatori_today', 'media_today'], axis=1)"
   ]
  },
  {
   "cell_type": "markdown",
   "metadata": {},
   "source": [
    "output"
   ]
  },
  {
   "cell_type": "code",
   "execution_count": 32,
   "metadata": {},
   "outputs": [],
   "source": [
    "df_P = result[result['R'] == \"P\"]\n",
    "df_P.to_excel('data/output/dataset_P.xlsx')"
   ]
  },
  {
   "cell_type": "code",
   "execution_count": 33,
   "metadata": {},
   "outputs": [],
   "source": [
    "df_D = result[result['R'] == \"D\"]\n",
    "df_D.to_excel('data/output/dataset_D.xlsx')"
   ]
  },
  {
   "cell_type": "code",
   "execution_count": 34,
   "metadata": {},
   "outputs": [],
   "source": [
    "df_C = result[result['R'] == \"C\"]\n",
    "df_C.to_excel('data/output/dataset_C.xlsx')"
   ]
  },
  {
   "cell_type": "code",
   "execution_count": 35,
   "metadata": {},
   "outputs": [],
   "source": [
    "df_A = result[result['R'] == \"A\"]\n",
    "df_A.to_excel('data/output/dataset_A.xlsx')"
   ]
  }
 ],
 "metadata": {
  "interpreter": {
   "hash": "c82e1247636d3be89cc01553965082c9192f704439db6c2df3123aa81ad7755f"
  },
  "kernelspec": {
   "display_name": "Python 3.9.7 ('fanta')",
   "language": "python",
   "name": "python3"
  },
  "language_info": {
   "codemirror_mode": {
    "name": "ipython",
    "version": 3
   },
   "file_extension": ".py",
   "mimetype": "text/x-python",
   "name": "python",
   "nbconvert_exporter": "python",
   "pygments_lexer": "ipython3",
   "version": "3.9.7"
  },
  "orig_nbformat": 4
 },
 "nbformat": 4,
 "nbformat_minor": 2
}
